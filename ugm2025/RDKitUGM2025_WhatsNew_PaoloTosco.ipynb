{
 "cells": [
  {
   "cell_type": "markdown",
   "id": "f0db15b4-b264-4f69-ad6c-5da2021d696a",
   "metadata": {},
   "source": [
    "# Interactive atom-based property visualisation in the browser"
   ]
  },
  {
   "cell_type": "markdown",
   "id": "4e291c56-8306-4fae-adc6-1cc1e5e2c05b",
   "metadata": {
    "execution": {
     "iopub.execute_input": "2025-09-08T13:19:05.189560Z",
     "iopub.status.busy": "2025-09-08T13:19:05.188937Z",
     "iopub.status.idle": "2025-09-08T13:19:05.192655Z",
     "shell.execute_reply": "2025-09-08T13:19:05.191999Z",
     "shell.execute_reply.started": "2025-09-08T13:19:05.189532Z"
    }
   },
   "source": [
    "### Paolo Tosco (Novartis), RDKit UGM 2025"
   ]
  },
  {
   "cell_type": "code",
   "execution_count": null,
   "id": "6f317281-1ee9-4ccb-b218-8d1911649f57",
   "metadata": {
    "tags": []
   },
   "outputs": [],
   "source": [
    "import os\n",
    "import re\n",
    "import itertools\n",
    "import pandas as pd\n",
    "import json\n",
    "import requests\n",
    "import requests.utils\n",
    "import time\n",
    "import uuid\n",
    "import logging\n",
    "import urllib.request\n",
    "import urllib.parse\n",
    "from io import BytesIO, StringIO\n",
    "from xml.dom import minidom\n",
    "from rdkit import Chem\n",
    "from rdkit.Chem.Draw import IPythonConsole, InteractiveRenderer, rdMolDraw2D, rdDepictor\n",
    "from rdkit.Chem import PandasTools\n",
    "from IPython.display import SVG, HTML, display\n",
    "import ipywidgets"
   ]
  },
  {
   "cell_type": "code",
   "execution_count": null,
   "id": "3f1a7594-5ab5-471f-b2d4-0b192bbfe5bc",
   "metadata": {},
   "outputs": [],
   "source": [
    "DATA_ROOT_URL = \"https://ptosco.github.io/ugm2025\""
   ]
  },
  {
   "cell_type": "markdown",
   "id": "e2dedd52-710a-4c0b-8f4e-bd99492de14e",
   "metadata": {},
   "source": [
    "Load the drawing settings used internally at Novartis Biomedical Research:"
   ]
  },
  {
   "cell_type": "code",
   "execution_count": null,
   "id": "ae4d3814-cd58-4439-9c16-43b451fb18ed",
   "metadata": {
    "tags": []
   },
   "outputs": [],
   "source": [
    "rdkit_drawing_settings_json_url = f\"{DATA_ROOT_URL}/rdkit_drawing_settings.json\"\n",
    "response = urllib.request.urlopen(rdkit_drawing_settings_json_url)\n",
    "assert response.status == 200\n",
    "rdkit_drawing_settings_json = response.read().decode(\"utf-8\")"
   ]
  },
  {
   "cell_type": "code",
   "execution_count": null,
   "id": "164a3444-d16d-4c24-a3e0-ba6296e00cc8",
   "metadata": {
    "tags": []
   },
   "outputs": [],
   "source": [
    "rdMolDraw2D.UpdateMolDrawOptionsFromJSON(IPythonConsole.drawOptions, rdkit_drawing_settings_json)\n",
    "IPythonConsole.drawOptions.standardColoursForHighlightedAtoms = True"
   ]
  },
  {
   "cell_type": "markdown",
   "id": "39c7e20a-4108-4968-b670-7283d11b3236",
   "metadata": {},
   "source": [
    "Load the interactive `rdkit-structure-renderer`"
   ]
  },
  {
   "cell_type": "code",
   "execution_count": null,
   "id": "10677248-b57e-47a7-b164-78e6ac2ae4b1",
   "metadata": {
    "tags": []
   },
   "outputs": [],
   "source": [
    "InteractiveRenderer.rdkitStructureRendererJsUrl = f\"{DATA_ROOT_URL}/rdkit-structure-renderer-module.js\""
   ]
  },
  {
   "cell_type": "code",
   "execution_count": null,
   "id": "04ca4dc6-92cd-4c6b-862b-131b51d5109c",
   "metadata": {
    "tags": []
   },
   "outputs": [],
   "source": [
    "InteractiveRenderer.minimalLibJsUrl = f\"{DATA_ROOT_URL}/RDKit_minimal.js\""
   ]
  },
  {
   "cell_type": "code",
   "execution_count": null,
   "id": "dda9392c-2ce2-463c-b616-48d34e292183",
   "metadata": {
    "tags": []
   },
   "outputs": [],
   "source": [
    "InteractiveRenderer.setEnabled()"
   ]
  },
  {
   "cell_type": "markdown",
   "id": "6b45bde9-109d-4d79-a6f5-88f5586df557",
   "metadata": {},
   "source": [
    "I took a table of 106 compounds whose pKa was experimentally assessed from this publication:<br><br>\n",
    "Settimo, L.; Bellman, K.; Knegtel, R. M. A.<br>\n",
    "[Comparison of the Accuracy of Experimental and Predicted pKa Values of Basic and Acidic Compounds](https://dx/doi.org/10.1007/s11095-013-1232-z)<br>\n",
    "<i>Pharm. Res.</i> <b>2014</b>, <i>31</i>, 1082–1095<br><br>\n",
    "and, more specifically, from a [piece of Supplementary Information](https://static-content.springer.com/esm/art%3A10.1007%2Fs11095-013-1232-z/MediaObjects/11095_2013_1232_MOESM1_ESM.docxhttps://static-content.springer.com/esm/art%3A10.1007%2Fs11095-013-1232-z/MediaObjects/11095_2013_1232_MOESM1_ESM.docx)\n",
    "which I converted to `xlsx` format for easier manipulation with `pandas`."
   ]
  },
  {
   "cell_type": "markdown",
   "id": "debd907c-27bd-4c6d-944f-96ce58574959",
   "metadata": {},
   "source": [
    "<b>TL;DR</b> If you are interested in how I processed the information in the table and fetched PubChem identifiers, keep reading below.<br>\n",
    "Otherwise feel free to skip to the <b>Read pickled DataFrame</b> section."
   ]
  },
  {
   "cell_type": "code",
   "execution_count": null,
   "id": "c29b6326-99bd-42c1-96e1-fe4b0dc98da0",
   "metadata": {
    "tags": []
   },
   "outputs": [],
   "source": [
    "response = urllib.request.urlopen(f\"{DATA_ROOT_URL}/Vertex_106_compounds.xlsx\")\n",
    "assert response.status == 200\n",
    "with BytesIO(response.read()) as hnd:\n",
    "    df = pd.read_excel(hnd)"
   ]
  },
  {
   "cell_type": "markdown",
   "id": "4e7ab07a-3d1b-4c0c-8abe-790bbf0865ad",
   "metadata": {},
   "source": [
    "Our table had one `Exp. pka` value per row, labelled as `acid` or `base`:"
   ]
  },
  {
   "cell_type": "code",
   "execution_count": null,
   "id": "60eb83bb-c0a4-4530-8897-0a29570acecf",
   "metadata": {
    "tags": []
   },
   "outputs": [],
   "source": [
    "df.head()"
   ]
  },
  {
   "cell_type": "markdown",
   "id": "dc6caefc-aeea-4155-94d2-6529fcecf887",
   "metadata": {},
   "source": [
    "We'd rather have all values on the same row, so we pivot the table:"
   ]
  },
  {
   "cell_type": "code",
   "execution_count": null,
   "id": "f3e05681-af98-4593-aa3d-80e22478b944",
   "metadata": {
    "tags": []
   },
   "outputs": [],
   "source": [
    "df = df.pivot(index=[\"Smiles string\", \"name\"], columns=\"type\", values=\"Exp. pka\")\n",
    "df.columns.name = None\n",
    "df = df.rename(columns={t: f\"Exp pKa {t[0].upper()}\" for t in df.columns}).reset_index()"
   ]
  },
  {
   "cell_type": "code",
   "execution_count": null,
   "id": "895ba2f4-23ed-484a-b73a-d725ded4d0c2",
   "metadata": {
    "tags": []
   },
   "outputs": [],
   "source": [
    "df.head()"
   ]
  },
  {
   "cell_type": "markdown",
   "id": "11cca3ba-9d96-4f7b-b7bf-d3129c55ccba",
   "metadata": {},
   "source": [
    "We also miss common names for these molecules, so we'll fetch them from PubChem:"
   ]
  },
  {
   "cell_type": "code",
   "execution_count": null,
   "id": "b7c9ceff-a793-4ea5-b437-8967c6cc098c",
   "metadata": {
    "tags": []
   },
   "outputs": [],
   "source": [
    "smi_list = df[\"Smiles string\"].apply(lambda smi: urllib.parse.urlencode(((\"smiles\", smi),))).to_list()"
   ]
  },
  {
   "cell_type": "code",
   "execution_count": null,
   "id": "6ae9bd6f-47ca-4bc3-a2b9-005d9da8ca96",
   "metadata": {
    "tags": []
   },
   "outputs": [],
   "source": [
    "PUG_REST_API_BASE_URL = \"https://pubchem.ncbi.nlm.nih.gov/rest/pug\""
   ]
  },
  {
   "cell_type": "code",
   "execution_count": null,
   "id": "1b4ec1af-e481-4ccc-b198-e79f89da7eb9",
   "metadata": {
    "tags": []
   },
   "outputs": [],
   "source": [
    "client = requests.session()"
   ]
  },
  {
   "cell_type": "code",
   "execution_count": null,
   "id": "3c1f432a-1c60-4eb8-aa77-3b1a6b0d3a00",
   "metadata": {
    "tags": []
   },
   "outputs": [],
   "source": [
    "client.headers = {\n",
    "    \"accept\": \"application/json\",\n",
    "    \"Content-Type\": \"application/x-www-form-urlencoded\"\n",
    "}"
   ]
  },
  {
   "cell_type": "markdown",
   "id": "0978ffbd-02b1-464f-9553-b0efa72378ba",
   "metadata": {},
   "source": [
    "First we get PubChem CIDs from SMILES..."
   ]
  },
  {
   "cell_type": "code",
   "execution_count": null,
   "id": "d5933ff5-6a36-4681-bee7-8cc6c701db94",
   "metadata": {
    "tags": []
   },
   "outputs": [],
   "source": [
    "cid_status_list = []\n",
    "for smi in smi_list:\n",
    "    response = client.post(f\"{PUG_REST_API_BASE_URL}/compound/smiles/cids/TXT\", data=smi)\n",
    "    cid = None\n",
    "    if response.status_code == 200:\n",
    "        cid = response.text.strip()\n",
    "    cid_status_list.append((cid, response.status_code))\n",
    "    # PubChem usage policy is no more than 5 requests/second\n",
    "    time.sleep(0.2)"
   ]
  },
  {
   "cell_type": "code",
   "execution_count": null,
   "id": "2f6cc19e-6b6f-4937-9e2b-dd8212145258",
   "metadata": {
    "tags": []
   },
   "outputs": [],
   "source": [
    "assert all(cid for cid, _ in cid_status_list)"
   ]
  },
  {
   "cell_type": "code",
   "execution_count": null,
   "id": "a7c22a02-dd13-4d4b-883b-d463f0d46834",
   "metadata": {
    "tags": []
   },
   "outputs": [],
   "source": [
    "cids = [cid for cid, _ in cid_status_list]"
   ]
  },
  {
   "cell_type": "code",
   "execution_count": null,
   "id": "17dfa9e8-0e00-4705-9f35-376c87b181c1",
   "metadata": {
    "tags": []
   },
   "outputs": [],
   "source": [
    "len(cids)"
   ]
  },
  {
   "cell_type": "markdown",
   "id": "eb918e72-22ec-445c-a077-9da91450bb9d",
   "metadata": {},
   "source": [
    "...then we get PubChem titles (i.e., common names):"
   ]
  },
  {
   "cell_type": "code",
   "execution_count": null,
   "id": "fe095d31-a3b4-452c-9b9f-1f4449d4a2f5",
   "metadata": {
    "tags": []
   },
   "outputs": [],
   "source": [
    "titles = []\n",
    "for cid in cids:\n",
    "    cid_encoded =  urllib.parse.urlencode([(\"cid\", cid)])\n",
    "    response = client.post(f\"{PUG_REST_API_BASE_URL}/compound/cid/description/JSON\", data=cid_encoded)\n",
    "    title = None\n",
    "    if response.status_code == 200:\n",
    "        response_json = response.json()\n",
    "        cid_title_list = [i for i in response_json[\"InformationList\"][\"Information\"] if \"CID\" in i and \"Title\" in i]\n",
    "        assert len(cid_title_list) == 1\n",
    "        title = cid_title_list[0][\"Title\"]\n",
    "    titles.append(title)\n",
    "    time.sleep(0.2)"
   ]
  },
  {
   "cell_type": "code",
   "execution_count": null,
   "id": "b1b2cff5-9143-4414-8610-bce8fb3d446d",
   "metadata": {
    "tags": []
   },
   "outputs": [],
   "source": [
    "assert all(titles)\n",
    "assert len(titles) == len(cids)"
   ]
  },
  {
   "cell_type": "code",
   "execution_count": null,
   "id": "7bf575df-05ef-4ad6-8f34-5cf638157e28",
   "metadata": {
    "tags": []
   },
   "outputs": [],
   "source": [
    "df[\"PubChem CID\"] = cids\n",
    "df[\"PubChem title\"] = titles"
   ]
  },
  {
   "cell_type": "markdown",
   "id": "7ea80f7b-2126-49d2-90a6-01b6bec14928",
   "metadata": {},
   "source": [
    "Finally we save the pickled `DataFrame` so we do not have to do this again:"
   ]
  },
  {
   "cell_type": "code",
   "execution_count": null,
   "id": "01609889-db66-49a0-a12a-69492d60a612",
   "metadata": {
    "tags": []
   },
   "outputs": [],
   "source": [
    "df.to_pickle(\"Vertex_106_compounds.pkl\")"
   ]
  },
  {
   "cell_type": "markdown",
   "id": "660f6b64-1a6d-471a-9a34-0c190f5cabe8",
   "metadata": {},
   "source": [
    "### Read pickled DataFrame"
   ]
  },
  {
   "cell_type": "code",
   "execution_count": null,
   "id": "ff97d9f2-ce58-4885-9c86-cba0759f6611",
   "metadata": {
    "tags": []
   },
   "outputs": [],
   "source": [
    "if os.path.exists(\"Vertex_106_compounds.pkl\"):\n",
    "    df = pd.read_pickle(\"Vertex_106_compounds.pkl\")\n",
    "else:\n",
    "    response = urllib.request.urlopen(f\"{DATA_ROOT_URL}/Vertex_106_compounds.pkl\")\n",
    "    assert response.status == 200\n",
    "    with BytesIO(response.read()) as hnd:\n",
    "        df = pd.read_pickle(hnd)"
   ]
  },
  {
   "cell_type": "markdown",
   "id": "6cad1b24-f838-4182-b240-1d991a79628a",
   "metadata": {},
   "source": [
    "We canonicalize SMILES with RDKit and generate a `ROMol` column:"
   ]
  },
  {
   "cell_type": "code",
   "execution_count": null,
   "id": "74a0edb3-6feb-4374-ab59-cb6e9a9a6e58",
   "metadata": {
    "tags": []
   },
   "outputs": [],
   "source": [
    "df[\"ROMol\"] = df[\"Smiles string\"].apply(Chem.MolFromSmiles)\n",
    "assert all(df[\"ROMol\"])\n",
    "df[\"Smiles string\"] = df[\"ROMol\"].apply(Chem.MolToSmiles)\n",
    "df[\"ROMol\"] = df[\"Smiles string\"].apply(Chem.MolFromSmiles)\n",
    "assert all(df[\"ROMol\"])"
   ]
  },
  {
   "cell_type": "markdown",
   "id": "f5ad6562-e3f4-4efe-a9ca-aaf34465df01",
   "metadata": {},
   "source": [
    "Then we save the molecules as SDF file; we'll need the SDF file to predict pKa values with [MoKa](https://www.moldiscovery.com/software/moka/):"
   ]
  },
  {
   "cell_type": "code",
   "execution_count": null,
   "id": "277c5c71-6dff-4cae-960b-322c4476170d",
   "metadata": {
    "tags": []
   },
   "outputs": [],
   "source": [
    "PandasTools.WriteSDF(df, \"Vertex_106_compounds.sdf\", \"ROMol\", \"PubChem title\", properties=list(df.columns))"
   ]
  },
  {
   "cell_type": "markdown",
   "id": "581b3502-7db5-4e41-8a00-1ad99129dd21",
   "metadata": {},
   "source": [
    "<b>NOTE:</b> The following is unlikely to work in your environment, unless you are licensing MoKa and have a `MoKa` module available to be loaded.<br>\n",
    "In that case , skip directly to the <b>Parse MoKa predictions from text output</b> section.<br>\n",
    "We compute a maximum of 3 acidic and 3 basic pKa values:"
   ]
  },
  {
   "cell_type": "code",
   "execution_count": null,
   "id": "5a578ab4-39b9-437e-b7eb-723b32a9b469",
   "metadata": {
    "tags": []
   },
   "outputs": [],
   "source": [
    "MAX_MOKA_PKA = 3"
   ]
  },
  {
   "cell_type": "code",
   "execution_count": null,
   "id": "552f5c5b-67ae-4da6-ac25-de6641336483",
   "metadata": {},
   "outputs": [],
   "source": [
    "!module load MoKa && echo \\\n",
    "    moka_cli --input-type=sd --output-type=txt --sd-field=\\\"PubChem title\\\" --acid-values={MAX_MOKA_PKA}"
   ]
  },
  {
   "cell_type": "code",
   "execution_count": null,
   "id": "6f0bf9cc-b25c-4e18-a10e-88e6bf9dccef",
   "metadata": {
    "tags": []
   },
   "outputs": [],
   "source": [
    "!module load MoKa && \\\n",
    "    moka_cli --input-type=sd --output-type=txt --sd-field=\"PubChem title\" \\\n",
    "    --acid-values={MAX_MOKA_PKA} --basic-values={MAX_MOKA_PKA} \\\n",
    "    --output=./Vertex_106_compounds_moka.txt \\\n",
    "    ./Vertex_106_compounds.sdf"
   ]
  },
  {
   "cell_type": "markdown",
   "id": "47e83b8e-35e5-4b69-a2d7-eb590b598aa2",
   "metadata": {},
   "source": [
    "### Parse MoKa predictions from text output"
   ]
  },
  {
   "cell_type": "code",
   "execution_count": null,
   "id": "57dce01e-aa91-42b7-9d01-8fe54441d8fa",
   "metadata": {
    "tags": []
   },
   "outputs": [],
   "source": [
    "if os.path.exists(\"Vertex_106_compounds_moka.txt\"):\n",
    "    with open(\"Vertex_106_compounds_moka.txt\") as hnd:\n",
    "        moka_results = [line for line in hnd]\n",
    "else:\n",
    "    response = urllib.request.urlopen(f\"{DATA_ROOT_URL}/Vertex_106_compounds_moka.txt\")\n",
    "    assert response.status == 200\n",
    "    with StringIO(response.read().decode(\"utf-8\")) as hnd:\n",
    "        moka_results = [line for line in hnd]"
   ]
  },
  {
   "cell_type": "markdown",
   "id": "996f4c60-9479-45b1-ba9f-780c60da880c",
   "metadata": {},
   "source": [
    "Make sure that we have as many non-null results as entries in the `DataFrame`:"
   ]
  },
  {
   "cell_type": "code",
   "execution_count": null,
   "id": "5ecea4d7-3779-4103-9eca-92cdb3fb6f5e",
   "metadata": {
    "tags": []
   },
   "outputs": [],
   "source": [
    "assert all(moka_results)\n",
    "assert len(moka_results) == len(df)"
   ]
  },
  {
   "cell_type": "markdown",
   "id": "6f207f48-ae22-48ed-bd7a-b19f3329bee9",
   "metadata": {},
   "source": [
    "This is how MoKa results look like:<br>\n",
    "`<NUM_PREDICTIONS> <PKA_TYPE_PRED_1> <PKA_VALUE_PRED_1> <ATOM_IDX_PRED_1> <SD_PRED_1> {...repeat for NUM_PREDICTIONS...}`"
   ]
  },
  {
   "cell_type": "code",
   "execution_count": null,
   "id": "fd79b795-0804-4cd4-9ea3-d7d65d3c43a3",
   "metadata": {
    "tags": []
   },
   "outputs": [],
   "source": [
    "moka_results[:3]"
   ]
  },
  {
   "cell_type": "markdown",
   "id": "42b7deb6-b8ac-4b6a-993b-3bfedd86a495",
   "metadata": {},
   "source": [
    "We define a few classes to load MoKa-predicted and experimental pKa on the molecules for interactive visualization:"
   ]
  },
  {
   "cell_type": "code",
   "execution_count": null,
   "id": "2e358923-c595-4cca-add2-262fdcad2a22",
   "metadata": {
    "tags": []
   },
   "outputs": [],
   "source": [
    "class MokaPrediction:\n",
    "\n",
    "    \"\"\"Store predicted and experimental pKa values.\"\"\"\n",
    "\n",
    "    def __init__(self, pka_type=None, pka=None, sd=None, exp_pka=None):\n",
    "        self.pka_type = pka_type\n",
    "        self.pka = pka\n",
    "        self.sd = sd\n",
    "        self.exp_pka = exp_pka"
   ]
  },
  {
   "cell_type": "code",
   "execution_count": null,
   "id": "cb73a8d0-1497-405a-a2c2-d1d53c2a2345",
   "metadata": {
    "tags": []
   },
   "outputs": [],
   "source": [
    "class MokaAtom:\n",
    "\n",
    "    \"\"\"Manage atom-related pKa prediction.\n",
    "\n",
    "    Organize pKa prediction by pKa type (acid, base).\n",
    "    Create atom highlights, labels and tooltips.\n",
    "    \"\"\"\n",
    "\n",
    "    STRIP_RGB_HEX_PREFIX = re.compile(r\"(?i)^(?:0x|#)?([0-9a-f]{6})\")\n",
    "    ACID_BASE_RGB = {\n",
    "        \"A\": \"#febfb8\",\n",
    "        \"B\": \"#b1d5e7\"\n",
    "    }\n",
    "    HIGHLIGHT_RADIUS = 0.4\n",
    "    TOOLTIP_CSS = \"\"\"\\\n",
    ".rdk-str-rnr-tooltip .atom {\n",
    "    table {\n",
    "        border-collapse: collapse;\n",
    "    }\n",
    "    th, td {\n",
    "        white-space: nowrap;\n",
    "        text-align: center;\n",
    "        padding-left:5px;\n",
    "        padding-right:5px;\n",
    "        font-size:1.2em;\n",
    "    }\n",
    "}\"\"\"\n",
    "\n",
    "    def __init__(self):\n",
    "        self.prediction_by_pka_type = {}\n",
    "\n",
    "    @staticmethod\n",
    "    def float_triplet_to_hexcode(r, g, b):\n",
    "        \"\"\"Convert R, G, B float triplet to #RRGGBB hex code.\"\"\"\n",
    "        return \"#\" + \"\".join(f\"{round(c * 255):02x}\" for c in (r, g, b))\n",
    "\n",
    "    @classmethod\n",
    "    def hexcode_to_float_triplet(cls, h):\n",
    "        \"\"\"Convert #RRGGBB hex code to R, G, B float triplet.\"\"\"\n",
    "        m = cls.STRIP_RGB_HEX_PREFIX.match(h)\n",
    "        if not m:\n",
    "            return None\n",
    "        h = m[1]\n",
    "        return tuple(float(int(f\"0x{h[i*2:(i+1)*2]}\", 16)) / 255 for i in range(3))\n",
    "\n",
    "    def add_prediction(self, prediction):\n",
    "        \"\"\"Add MokaPrediction to this atom.\"\"\"\n",
    "        self.prediction_by_pka_type[prediction.pka_type] = prediction\n",
    "\n",
    "    def pka_highlight_colors(self):\n",
    "        \"\"\"Return list of R, G, B tuples to highlight this atom.\"\"\"\n",
    "        return [self.hexcode_to_float_triplet(self.ACID_BASE_RGB[pka_type])\n",
    "                for pka_type, prediction in sorted(self.prediction_by_pka_type.items())]\n",
    "\n",
    "    def pka_label(self):\n",
    "        \"\"\"Return pKa label for this atom.\"\"\"\n",
    "        pka_values = [f\"{prediction.pka:.2f}\" for pka_type, prediction in sorted(self.prediction_by_pka_type.items())]\n",
    "        return \",\".join(pka_values)\n",
    "        \n",
    "    def pka_tooltip(self):\n",
    "        \"\"\"Return pKa HTML tooltip for this atom.\"\"\"\n",
    "        thead = [\"<thead><tr><th></th><th>MoKa &plusmn; SD</th>\"]\n",
    "        exp_pka_type_tuple = None\n",
    "        tbody = {}\n",
    "        for pka_type, prediction in sorted(self.prediction_by_pka_type.items()):\n",
    "            tbody[pka_type] = [f\"<tr style=\\\"background-color: {self.ACID_BASE_RGB[pka_type]};\\\">\"\n",
    "                               f\"<td><b>{pka_type}</b></td><td>{prediction.pka:.2f} &plusmn; {prediction.sd:.2f}</td>\"]\n",
    "            if prediction.exp_pka is not None:\n",
    "                exp_pka_type_tuple = (prediction.exp_pka, pka_type)\n",
    "        if exp_pka_type_tuple is not None:\n",
    "            thead.append(\"<th>Exp</th>\")\n",
    "            exp_pka, exp_pka_type = exp_pka_type_tuple\n",
    "            for pka_type, trow in tbody.items():\n",
    "                exp_pka_td_content = \"\"\n",
    "                if exp_pka_type == pka_type:\n",
    "                    exp_pka_td_content = f\"{exp_pka:.2f}\"\n",
    "                trow.append(f\"<td>{exp_pka_td_content}</td>\")\n",
    "        thead.append(\"</thead>\")\n",
    "        for trow in tbody.values():\n",
    "            trow.append(\"</tr>\")\n",
    "        tooltip = [f\"<style>{self.TOOLTIP_CSS}</style>\"] + [\"<table>\"] + thead + [\"\".join(trow) for _, trow in sorted(tbody.items())] + [\"</table>\"]\n",
    "        tooltip_encoded = \"\".join(tooltip)\n",
    "        return tooltip_encoded\n",
    "\n",
    "    def pka_highlight_radius(self):\n",
    "        \"\"\"Return highlight radius for this atom.\"\"\"\n",
    "        return self.HIGHLIGHT_RADIUS"
   ]
  },
  {
   "cell_type": "code",
   "execution_count": null,
   "id": "90f2caf7-1106-4e72-85e5-86ef7f5df590",
   "metadata": {
    "tags": []
   },
   "outputs": [],
   "source": [
    "class MokaMol:\n",
    "\n",
    "    \"\"\"Store collection of MokaAtoms by pKa type.\n",
    "\n",
    "    Also store a reference to ROMol such that pka\n",
    "    visualization can be set up on the molecule.\n",
    "    \"\"\"\n",
    "\n",
    "    N_MOKA_FIELDS = 4\n",
    "    MOKA_VALUE_PARSE_REGEX = re.compile(\"^(\\\"[^\\\"]+\\\"|[^\\\"^ ]+) 0 - (\\\\d+)(.*)$\")\n",
    "\n",
    "    @classmethod\n",
    "    def from_moka_result(cls, moka_result):\n",
    "        \"\"\"Return MokaPrediction array from MoKa raw result.\"\"\"\n",
    "        if not cls.MOKA_VALUE_PARSE_REGEX.match(moka_result):\n",
    "            raise ValueError(f\"MoKa result '{moka_result}' cannot be parsed\")\n",
    "        moka_result_parsed = cls.MOKA_VALUE_PARSE_REGEX.sub(r\"\\2,\\3\", moka_result)\n",
    "        n_pred, pka_values = moka_result_parsed.split(\",\")\n",
    "        n_pred = int(n_pred)\n",
    "        pka_value_iter = iter(pka_values.strip().split())\n",
    "        pka_values_sliced = [tuple(itertools.islice(pka_value_iter, cls.N_MOKA_FIELDS)) for i in range(n_pred)]\n",
    "        if tuple(itertools.islice(pka_value_iter, cls.N_MOKA_FIELDS)):\n",
    "            raise ValueError(f\"Found more predictions in MoKa result '{moka_result}' than expected ({n_pred})\")\n",
    "        moka_mol = cls()\n",
    "        for pka_type, pka, atom_idx, sd in pka_values_sliced:\n",
    "            pka_type = pka_type.upper()\n",
    "            if not pka_type in (\"A\", \"B\"):\n",
    "                raise ValueError(f\"Expected pKa type in MoKa result '{moka_result}' to be 'A' or 'B', found {pka_type}\")\n",
    "            pka = float(pka)\n",
    "            if (pka_type == \"A\" and pka > 14) or (pka_type == \"B\" and pka < 0):\n",
    "                continue\n",
    "            atom_idx = int(atom_idx)\n",
    "            if atom_idx <= 0:\n",
    "                raise ValueError(f\"Expected atom idx in MoKa result '{moka_result}' to be >0, found {atom_idx}\")\n",
    "            atom_idx -= 1\n",
    "            sd = float(sd)\n",
    "            moka_mol.add_atom_prediction(atom_idx, MokaPrediction(pka_type=pka_type, pka=pka, sd=sd))\n",
    "        return moka_mol\n",
    "\n",
    "    def __init__(self):\n",
    "        self.atoms = {}\n",
    "\n",
    "    def set_romol(self, mol):\n",
    "        \"\"\"Set RDKit ROMol.\"\"\"\n",
    "        self.mol = mol\n",
    "\n",
    "    def add_atom_prediction(self, atom_idx, prediction):\n",
    "        \"\"\"Add MokaPrediction to atom with index atom_idx.\"\"\"\n",
    "        moka_atom = self.atoms.get(atom_idx, MokaAtom())\n",
    "        moka_atom.add_prediction(prediction)\n",
    "        self.atoms[atom_idx] = moka_atom\n",
    "\n",
    "    def set_exp_pka(self, exp_pka, pka_type):\n",
    "        \"\"\"Associate experimental pKa to closest MokaPrediction.\"\"\"\n",
    "        pkas_by_type = [atom for atom in self.atoms.values()\n",
    "                        if pka_type in atom.prediction_by_pka_type.keys()]\n",
    "        if exp_pka is not None and str(exp_pka) != \"nan\" and pkas_by_type:\n",
    "            closest_atom = min(pkas_by_type,\n",
    "                key=lambda atom: abs(atom.prediction_by_pka_type[pka_type].pka - exp_pka))\n",
    "            closest_atom.prediction_by_pka_type[pka_type].exp_pka = exp_pka\n",
    "            return True\n",
    "        return False\n",
    "\n",
    "    def setup_mol_for_pka_visualization(self):\n",
    "        \"\"\"Add opts to ROMol for interactive visualization.\"\"\"\n",
    "        if self.mol is None:\n",
    "            return False\n",
    "        highlight_atom_multiple_colors = {}\n",
    "        highlight_atom_radii = {}\n",
    "        atom_tooltips = {}\n",
    "        for atom_idx, moka_atom in self.atoms.items():\n",
    "            pka_label = moka_atom.pka_label()\n",
    "            atom_tooltips[atom_idx] = moka_atom.pka_tooltip()\n",
    "            atom = self.mol.GetAtomWithIdx(atom_idx)\n",
    "            atom.SetProp(\"atomNote\", pka_label)\n",
    "            highlight_atom_multiple_colors[atom_idx] = moka_atom.pka_highlight_colors()\n",
    "            highlight_atom_radii[atom_idx] = moka_atom.pka_highlight_radius()\n",
    "        atom_tooltips_json = json.dumps(atom_tooltips)\n",
    "        opts = {\n",
    "            \"data-draw-opts\": {\n",
    "                \"highlightAtomMultipleColors\": highlight_atom_multiple_colors,\n",
    "                \"highlightAtomRadii\": highlight_atom_radii\n",
    "            },\n",
    "            \"data-atom-tooltips\": atom_tooltips_json\n",
    "        }\n",
    "        InteractiveRenderer.setOpts(self.mol, opts)\n",
    "        return True"
   ]
  },
  {
   "cell_type": "markdown",
   "id": "eacb9ddd-edce-47ba-a013-0cac477ebc35",
   "metadata": {},
   "source": [
    "Now we:\n",
    "* parse the predictions generated by MoKa for each `DataFrame` molecule\n",
    "* associate the closest prediction to the experimentally measured pKa value\n",
    "* prepare the RDKit molecule for interactive visualization:"
   ]
  },
  {
   "cell_type": "code",
   "execution_count": null,
   "id": "639f2c4f-8801-4d3e-b1a0-9184430adecf",
   "metadata": {
    "tags": []
   },
   "outputs": [],
   "source": [
    "for mol_idx, moka_result in enumerate(moka_results):\n",
    "    moka_mol = MokaMol.from_moka_result(moka_result)\n",
    "    moka_mol.set_romol(df.loc[mol_idx].ROMol)\n",
    "    for pka_type in (\"A\", \"B\"):\n",
    "        exp_pka = df.iloc[mol_idx][f\"Exp pKa {pka_type}\"]\n",
    "        moka_mol.set_exp_pka(exp_pka, pka_type)\n",
    "    moka_mol.setup_mol_for_pka_visualization()"
   ]
  },
  {
   "cell_type": "markdown",
   "id": "3d5a6102-2c27-4be0-a474-eeb6975687b5",
   "metadata": {},
   "source": [
    "We call the familiar `PandasTools.RenderImagesInAllDataFrames()` to render molecules in the `DataFrame` as images, but since earlier we enabled interactive rendering, we will have interactive HTML5 objects rather than static images:"
   ]
  },
  {
   "cell_type": "code",
   "execution_count": null,
   "id": "344bbf02-2e3e-471f-a11d-c7d3be20c224",
   "metadata": {
    "tags": []
   },
   "outputs": [],
   "source": [
    "PandasTools.RenderImagesInAllDataFrames()"
   ]
  },
  {
   "cell_type": "markdown",
   "id": "21fa43dd-c96a-46ec-b393-dd52a8da62ad",
   "metadata": {},
   "source": [
    "We drop a few columns that we do not need anymore, since their information is more usefully visualized on the molecule itself:"
   ]
  },
  {
   "cell_type": "code",
   "execution_count": null,
   "id": "4a9badb0-788b-4d9f-86cd-908dc7fb3aaf",
   "metadata": {
    "tags": []
   },
   "outputs": [],
   "source": [
    "df_show = df.drop(columns=[\"Smiles string\", \"name\", \"Exp pKa A\", \"Exp pKa B\"]).reset_index(drop=True).set_index(\"PubChem title\")"
   ]
  },
  {
   "cell_type": "markdown",
   "id": "01f7ac41-1a0d-4fa8-b1bc-91d0e7c4345a",
   "metadata": {},
   "source": [
    "Let's make the molecules a bit larger than the default:"
   ]
  },
  {
   "cell_type": "code",
   "execution_count": null,
   "id": "3a2f1a52-aaf9-4c1f-a553-db09e0e90bba",
   "metadata": {
    "tags": []
   },
   "outputs": [],
   "source": [
    "IPythonConsole.molSize = (300, 200)\n",
    "PandasTools.molSize = (300, 200)"
   ]
  },
  {
   "cell_type": "markdown",
   "id": "4eb39b0e-bcf5-4a75-8204-a1391cd61192",
   "metadata": {},
   "source": [
    "And, finally, let's display the `DataFrame`.<br>\n",
    "You should be able to see pKa tooltips hovering on the highlighted atoms."
   ]
  },
  {
   "cell_type": "code",
   "execution_count": null,
   "id": "8a23e8a1-90a2-41e6-9b41-d1b110aaf582",
   "metadata": {
    "tags": []
   },
   "outputs": [],
   "source": [
    "df_show.head()"
   ]
  },
  {
   "cell_type": "markdown",
   "id": "340a0c92-c637-4e3f-8527-b704da35d714",
   "metadata": {},
   "source": [
    "Here's another example of interactivity applied to atoms and bonds: selecting atoms and bonds of an RDKit molecule in Jupyter.<br>Through a simple helper class it is possible to access the selection from Python."
   ]
  },
  {
   "cell_type": "code",
   "execution_count": null,
   "id": "7777fd29-c27d-4eed-84b0-66ff2bbcd0fa",
   "metadata": {
    "tags": []
   },
   "outputs": [],
   "source": [
    "class AtomBondSelection:\n",
    "\n",
    "    \"\"\"A class to enable interactive atom and bond selection in a Jupyter Notebook.\"\"\"\n",
    "\n",
    "    ATOM_SELECTION_ATTR = \"data-atom-selection\"\n",
    "    BOND_SELECTION_ATTR = \"data-bond-selection\"\n",
    "    DRAW_OPTS_ATTR = \"data-draw-opts\"\n",
    "    RETURN_DRAW_COORDS_ATTR = \"returnDrawCoords\"\n",
    "    JP_WIDGET_CLASSNAME = \"jp-atom-selection\"\n",
    "    STANDARD_COLOR_OPT_NAME = \"standardColoursForHighlightedAtoms\"\n",
    "    DRAWING_EXTENTS_INCLUDE_OPT_NAME = \"drawingExtentsInclude\"\n",
    "    RDK_STR_RNR_PREFIX = \"rdk-str-rnr-\"\n",
    "    MOL_ID_REGEX = re.compile(f\"^{RDK_STR_RNR_PREFIX}mol-([0-9a-f]{{8}}-(?:[0-9a-f]{{4}}-){{3}}[0-9a-f]{{12}})$\")\n",
    "\n",
    "    def __init__(self, mol):\n",
    "        self._widget = ipywidgets.Text(disabled=False, layout=ipywidgets.Layout(display=\"None\"))\n",
    "        self._widget_classname = f\"{self.JP_WIDGET_CLASSNAME}-{str(uuid.uuid1())}\"\n",
    "        self._widget.observe(self.handler, names=\"value\")\n",
    "        self._widget.add_class(self._widget_classname)\n",
    "        self._mol = Chem.Mol(mol)\n",
    "        self._orig_repr_html_ = self._mol._repr_html_\n",
    "        self._logger = logging.getLogger(self.__class__.__name__)\n",
    "        self._atoms = None\n",
    "\n",
    "    def _repr_html_(self):\n",
    "        \"\"\"The HTML representation of this class.\"\"\"\n",
    "        display(self._widget)\n",
    "        self._mol_repr_dom = minidom.parseString(self._orig_repr_html_().replace(\" scoped\", \"\"))\n",
    "        divs = [div for div in self._mol_repr_dom.getElementsByTagName(\"div\") if self.MOL_ID_REGEX.match(div.getAttribute(\"id\"))]\n",
    "        if len(divs) != 1:\n",
    "            raise ValueError(f\"Failed to find unique mol div; found {len(divs)}\")\n",
    "        self._mol_div = divs[0]\n",
    "        self._mol_div_id = self._mol_div.getAttribute(\"id\")\n",
    "        self._mol_div_uuid = self.MOL_ID_REGEX.match(self._mol_div.getAttribute(\"id\"))[1]\n",
    "        self._mol_div.parentNode.insertBefore(self._jupyter_comm_script(), self._mol_div)\n",
    "        self._mol_div.setAttribute(self.ATOM_SELECTION_ATTR, \"\")\n",
    "        self._mol_div.setAttribute(self.BOND_SELECTION_ATTR, \"\")\n",
    "        draw_opts = json.loads(self._mol_div.getAttribute(self.DRAW_OPTS_ATTR) or \"{}\")\n",
    "        draw_opts[self.STANDARD_COLOR_OPT_NAME] = True\n",
    "        draw_opts[self.DRAWING_EXTENTS_INCLUDE_OPT_NAME] = { \"ALL\": True, \"HIGHLIGHTS\": False }\n",
    "        self._mol_div.setAttribute(self.DRAW_OPTS_ATTR, json.dumps(draw_opts))\n",
    "        return self._mol_repr_dom.toxml()\n",
    "        \n",
    "    def _jupyter_comm_script(self):\n",
    "        \"\"\"The script which syncs the HTML widget with Jupyter.\"\"\"\n",
    "        script = self._mol_repr_dom.createElement(\"script\")\n",
    "        script_text = self._mol_repr_dom.createTextNode(\"\"\"\\\n",
    "(function() {\n",
    "    const tid = setInterval(function() {\n",
    "        try {\n",
    "            const jpAtomSel = document.getElementsByClassName('\"\"\" + self._widget_classname + \"\"\"');\n",
    "            if (jpAtomSel.length !== 1) return;\n",
    "            const input = jpAtomSel[0].querySelector('input');\n",
    "            if (!input) return;\n",
    "            const molDiv = document.getElementById('\"\"\" + self._mol_div_id + \"\"\"');\n",
    "            if (!molDiv) return;\n",
    "            const r = RDKitStructureRenderer;\n",
    "            const divId = r.getDivId(molDiv);\n",
    "            if (!r.setUserOptsCallback(divId, function({divId, atoms, bonds}) {\n",
    "                input.value = JSON.stringify({atoms, bonds});\n",
    "                input.dispatchEvent(new Event('input', { bubbles: true, cancelable: true }));\n",
    "            })) return;\n",
    "        } catch(e) {\n",
    "            const msgDiv = document.createElement('div');\n",
    "            msgDiv.className = 'lm-Widget p-Widget jp-RenderedText jp-mod-trusted jp-OutputArea-output';\n",
    "            msgDiv.textContent = 'Failed to set up Jupyter communication (${e})';\n",
    "            molDiv.parentNode.appendChild(msgDiv)\n",
    "        }\n",
    "        if (tid) {\n",
    "            clearInterval(tid);\n",
    "        }\n",
    "    }, 10);\n",
    "})();\n",
    "\"\"\")\n",
    "        script.appendChild(script_text)\n",
    "        return script\n",
    "\n",
    "    def handler(self, obj):\n",
    "        \"\"\"The Jupyter widget handler callback.\"\"\"\n",
    "        self._obj = obj\n",
    "        if obj.get(\"type\", None) == \"change\" and obj.get(\"name\", None) == \"value\":\n",
    "            new_value = obj.get(\"new\", None)\n",
    "            if new_value is not None:\n",
    "                try:\n",
    "                    self._selection = json.loads(new_value)\n",
    "                except Exception as e:\n",
    "                    self._logger.warning(f\"Failed to parse JSON '{new_value}'\")\n",
    "\n",
    "    def atoms(self):\n",
    "        \"\"\"Selected atom accessor.\"\"\"\n",
    "        return self._selection[\"atoms\"]\n",
    "\n",
    "    def bonds(self):\n",
    "        \"\"\"Selected bond accessor.\"\"\"\n",
    "        return self._selection[\"bonds\"]"
   ]
  },
  {
   "cell_type": "markdown",
   "id": "e26424fc-f9bf-41f4-a0c2-17c3869a11e9",
   "metadata": {},
   "source": [
    "Instantiate the `AtomBondSelection` class:"
   ]
  },
  {
   "cell_type": "code",
   "execution_count": null,
   "id": "73511fb6-f52e-46fc-b576-e9732763c2f1",
   "metadata": {
    "tags": []
   },
   "outputs": [],
   "source": [
    "atom_bond_selection = AtomBondSelection(df_show.loc[\"Cefdinir\"].ROMol)"
   ]
  },
  {
   "cell_type": "markdown",
   "id": "95b8532d-b6e9-4364-950e-bd41a10da0ca",
   "metadata": {},
   "source": [
    "Visualize it in Jupyter.<br>\n",
    "Atoms and bonds can be selected by mouse clicks..."
   ]
  },
  {
   "cell_type": "code",
   "execution_count": null,
   "id": "000629e6-f0b0-4aa2-bc87-1523b202abd4",
   "metadata": {
    "tags": []
   },
   "outputs": [],
   "source": [
    "atom_bond_selection"
   ]
  },
  {
   "cell_type": "markdown",
   "id": "221542e9-1b11-4535-9061-0e4ac8548684",
   "metadata": {},
   "source": [
    "...and selections can be accessed from Python:"
   ]
  },
  {
   "cell_type": "code",
   "execution_count": null,
   "id": "291804eb-e64c-4ba5-9845-b52c5a09bbea",
   "metadata": {
    "tags": []
   },
   "outputs": [],
   "source": [
    "atom_bond_selection.atoms()"
   ]
  },
  {
   "cell_type": "code",
   "execution_count": null,
   "id": "ae1895ed-5649-4f14-8332-7e1901acecdb",
   "metadata": {
    "tags": []
   },
   "outputs": [],
   "source": [
    "atom_bond_selection.bonds()"
   ]
  },
  {
   "cell_type": "code",
   "execution_count": null,
   "id": "633cd793-f5b8-48af-b47e-4ebc1435fa1e",
   "metadata": {},
   "outputs": [],
   "source": []
  }
 ],
 "metadata": {
  "kernelspec": {
   "display_name": "rdkit_master",
   "language": "python",
   "name": "rdkit_master"
  },
  "language_info": {
   "codemirror_mode": {
    "name": "ipython",
    "version": 3
   },
   "file_extension": ".py",
   "mimetype": "text/x-python",
   "name": "python",
   "nbconvert_exporter": "python",
   "pygments_lexer": "ipython3",
   "version": "3.10.16"
  }
 },
 "nbformat": 4,
 "nbformat_minor": 5
}
